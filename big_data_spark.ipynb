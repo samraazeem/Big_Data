{
 "cells": [
  {
   "cell_type": "code",
   "execution_count": 1,
   "metadata": {},
   "outputs": [],
   "source": [
    "# import dependencies\n",
    "from pyspark.sql import SparkSession\n",
    "from pyspark.context import SparkContext\n",
    "from pyspark.sql.functions import *\n",
    "from pyspark.sql.types import *\n",
    "from pyspark.sql.types import ArrayType, StructField, StructType, StringType, IntegerType"
   ]
  },
  {
   "cell_type": "code",
   "execution_count": 2,
   "metadata": {},
   "outputs": [
    {
     "name": "stderr",
     "output_type": "stream",
     "text": [
      "/home/azureuser/.local/lib/python3.6/site-packages/pyspark/context.py:238: FutureWarning: Python 3.6 support is deprecated in Spark 3.2.\n",
      "  FutureWarning\n"
     ]
    }
   ],
   "source": [
    "## create spark session\n",
    "appName = \"PySpark Example - JSON file to Spark Data Frame\"\n",
    "master = \"local\"\n",
    "\n",
    "spark = SparkSession.builder \\\n",
    "    .appName(appName) \\\n",
    "    .master(master) \\\n",
    "    .getOrCreate()"
   ]
  },
  {
   "cell_type": "code",
   "execution_count": 3,
   "metadata": {},
   "outputs": [
    {
     "name": "stdout",
     "output_type": "stream",
     "text": [
      "Rows Read:  55\n"
     ]
    }
   ],
   "source": [
    "# read data source\n",
    "json_file_path = './demographic_info.json'\n",
    "dataframe = spark.read.json(json_file_path)\n",
    "print(\"Rows Read: \",dataframe.count())"
   ]
  },
  {
   "cell_type": "code",
   "execution_count": 4,
   "metadata": {},
   "outputs": [
    {
     "name": "stdout",
     "output_type": "stream",
     "text": [
      "Printing Selected Coulmns: \n",
      "\n",
      "+-----------------+---+------+--------+---------+---------+--------+--------------------+-----------------+\n",
      "|             name|age|gender|isActive|  balance|  company|eyeColor|               email|            phone|\n",
      "+-----------------+---+------+--------+---------+---------+--------+--------------------+-----------------+\n",
      "|      Lowe Larson| 42|  male|    true|$2,411.24| RENOVIZE|   brown|lowelarson@renovi...|+1 (829) 550-2765|\n",
      "| Daugherty Wooten| 16|  male|    true|$2,407.28|ACRODANCE|   green|daughertywooten@a...|+1 (802) 479-3544|\n",
      "| Patterson Hooper| 28|  male|   false|$3,350.58| EPLOSION|   green|pattersonhooper@e...|+1 (939) 419-2625|\n",
      "|      Hood Ortega| 53|  male|    true|$2,147.34|  GRACKER|    blue|hoodortega@gracke...|+1 (880) 575-3417|\n",
      "|   Fuller Morales| 58|  male|    true|$1,851.82|MANGELICA|   brown|fullermorales@man...|+1 (958) 597-3314|\n",
      "|     Lela Griffin| 55|female|   false|$1,374.50|   BIFLEX|    blue|lelagriffin@bifle...|+1 (808) 409-2628|\n",
      "|     Harmon Giles| 34|  male|    true|$3,294.72|   VETRON|   green|harmongiles@vetro...|+1 (957) 417-3607|\n",
      "|Tricia Pennington| 18|female|   false|$1,590.81|CRUSTATIA|   brown|triciapennington@...|+1 (912) 537-2355|\n",
      "|    Fisher Mathis| 45|  male|    true|$1,546.40|   ZAPPIX|    blue|fishermathis@zapp...|+1 (863) 435-3679|\n",
      "|     Karla Barker| 35|female|   false|$3,972.28|SLOGANAUT|    blue|karlabarker@sloga...|+1 (852) 510-2077|\n",
      "|      Judy Lowery| 18|female|   false|$2,015.93|  ORONOKO|   brown|judylowery@oronok...|+1 (810) 404-2033|\n",
      "|   Tamika Wheeler| 16|female|   false|$2,856.15| LIQUICOM|   brown|tamikawheeler@liq...|+1 (867) 470-2734|\n",
      "|  Sharlene Benton| 36|female|    true|$1,272.43|     WAAB|    blue|sharlenebenton@wa...|+1 (825) 578-3842|\n",
      "|   Daniel Vasquez| 39|  male|   false|$2,343.17|  OPTIQUE|   green|danielvasquez@opt...|+1 (816) 594-2560|\n",
      "|     Lola Clayton| 24|female|   false|$1,344.88|  ZENTURY|    blue|lolaclayton@zentu...|+1 (850) 571-3058|\n",
      "|    Rivera Keller| 29|  male|   false|$2,039.52|ACCUPRINT|   green|riverakeller@accu...|+1 (960) 497-3871|\n",
      "|     Moran Hester| 29|  male|    true|$2,800.62|  SYNKGEN|   green|moranhester@synkg...|+1 (860) 421-2865|\n",
      "| Leslie Middleton| 54|female|   false|$2,899.17| ENTALITY|    blue|lesliemiddleton@e...|+1 (864) 524-2649|\n",
      "|     Simpson Vega| 57|  male|    true|$1,835.50|  DATAGEN|   brown|simpsonvega@datag...|+1 (913) 577-3921|\n",
      "|    Manuela Burke| 53|female|   false|$2,736.21|   DUFLEX|   brown|manuelaburke@dufl...|+1 (938) 426-3780|\n",
      "+-----------------+---+------+--------+---------+---------+--------+--------------------+-----------------+\n",
      "only showing top 20 rows\n",
      "\n"
     ]
    }
   ],
   "source": [
    "#using select query\n",
    "df = dataframe.select(\"name\", \"age\", \"gender\", \"isActive\", \"balance\", \"company\", \"eyeColor\", \"email\", \"phone\")\n",
    "print(\"Printing Selected Coulmns: \\n\")\n",
    "df.show()"
   ]
  },
  {
   "cell_type": "code",
   "execution_count": 5,
   "metadata": {},
   "outputs": [
    {
     "name": "stdout",
     "output_type": "stream",
     "text": [
      "Filter with isActive: \n",
      "\n",
      "+----------------+---+------+--------+---------+---------+--------+--------------------+-----------------+\n",
      "|            name|age|gender|isActive|  balance|  company|eyeColor|               email|            phone|\n",
      "+----------------+---+------+--------+---------+---------+--------+--------------------+-----------------+\n",
      "|     Lowe Larson| 42|  male|    true|$2,411.24| RENOVIZE|   brown|lowelarson@renovi...|+1 (829) 550-2765|\n",
      "|Daugherty Wooten| 16|  male|    true|$2,407.28|ACRODANCE|   green|daughertywooten@a...|+1 (802) 479-3544|\n",
      "|     Hood Ortega| 53|  male|    true|$2,147.34|  GRACKER|    blue|hoodortega@gracke...|+1 (880) 575-3417|\n",
      "|  Fuller Morales| 58|  male|    true|$1,851.82|MANGELICA|   brown|fullermorales@man...|+1 (958) 597-3314|\n",
      "|    Harmon Giles| 34|  male|    true|$3,294.72|   VETRON|   green|harmongiles@vetro...|+1 (957) 417-3607|\n",
      "|   Fisher Mathis| 45|  male|    true|$1,546.40|   ZAPPIX|    blue|fishermathis@zapp...|+1 (863) 435-3679|\n",
      "| Sharlene Benton| 36|female|    true|$1,272.43|     WAAB|    blue|sharlenebenton@wa...|+1 (825) 578-3842|\n",
      "|    Moran Hester| 29|  male|    true|$2,800.62|  SYNKGEN|   green|moranhester@synkg...|+1 (860) 421-2865|\n",
      "|    Simpson Vega| 57|  male|    true|$1,835.50|  DATAGEN|   brown|simpsonvega@datag...|+1 (913) 577-3921|\n",
      "|Concetta Spencer| 43|female|    true|$2,678.44|MUSANPOLY|   brown|concettaspencer@m...|+1 (910) 584-2945|\n",
      "|       Lori Rich| 46|female|    true|$1,675.59| TWIGGERY|   green|loririch@twiggery...|+1 (820) 576-3515|\n",
      "|     Diaz Carson| 14|  male|    true|$3,169.39|  PLASMOS|   green|diazcarson@plasmo...|+1 (987) 426-2245|\n",
      "|   Nettie Dennis| 15|female|    true|$2,527.23| KATAKANA|   brown|nettiedennis@kata...|+1 (900) 412-3106|\n",
      "| Rosalinda Wolfe| 13|female|    true|$1,394.98|  GEOFORM|   green|rosalindawolfe@ge...|+1 (831) 576-3214|\n",
      "|  Addie Mckinney| 29|female|    true|$3,501.79|  MARVANE|   brown|addiemckinney@mar...|+1 (964) 419-2240|\n",
      "| Kirsten Mcbride| 35|female|    true|$1,579.90|     GYNK|   brown|kirstenmcbride@gy...|+1 (922) 559-3513|\n",
      "|      Faith Rice| 37|female|    true|$1,193.99|  JETSILK|   brown|faithrice@jetsilk...|+1 (943) 514-2850|\n",
      "|      Mabel Byrd| 39|female|    true|$2,567.42|DARWINIUM|    blue|mabelbyrd@darwini...|+1 (948) 521-3321|\n",
      "| Eugenia Mcgowan| 35|female|    true|$1,104.00| GLEAMINK|    blue|eugeniamcgowan@gl...|+1 (957) 600-3785|\n",
      "|   Celia Walters| 47|female|    true|$1,233.30|  KONNECT|   brown|celiawalters@konn...|+1 (921) 559-2230|\n",
      "+----------------+---+------+--------+---------+---------+--------+--------------------+-----------------+\n",
      "only showing top 20 rows\n",
      "\n"
     ]
    }
   ],
   "source": [
    "#using filter\n",
    "df = df.filter(df.isActive == \"true\")\n",
    "print(\"Filter with isActive: \\n\")\n",
    "df.show()"
   ]
  },
  {
   "cell_type": "code",
   "execution_count": 6,
   "metadata": {},
   "outputs": [
    {
     "name": "stdout",
     "output_type": "stream",
     "text": [
      "Output with new column Age_Group\n",
      "+----------------+---+------+--------+---------+---------+--------+-----------------------------+-----------------+---------+\n",
      "|name            |age|gender|isActive|balance  |company  |eyeColor|email                        |phone            |Age_Group|\n",
      "+----------------+---+------+--------+---------+---------+--------+-----------------------------+-----------------+---------+\n",
      "|Lowe Larson     |42 |male  |true    |$2,411.24|RENOVIZE |brown   |lowelarson@renovize.com      |+1 (829) 550-2765|Old      |\n",
      "|Daugherty Wooten|16 |male  |true    |$2,407.28|ACRODANCE|green   |daughertywooten@acrodance.com|+1 (802) 479-3544|Teenager |\n",
      "|Hood Ortega     |53 |male  |true    |$2,147.34|GRACKER  |blue    |hoodortega@gracker.com       |+1 (880) 575-3417|Old      |\n",
      "|Fuller Morales  |58 |male  |true    |$1,851.82|MANGELICA|brown   |fullermorales@mangelica.com  |+1 (958) 597-3314|Old      |\n",
      "|Harmon Giles    |34 |male  |true    |$3,294.72|VETRON   |green   |harmongiles@vetron.com       |+1 (957) 417-3607|Adult    |\n",
      "|Fisher Mathis   |45 |male  |true    |$1,546.40|ZAPPIX   |blue    |fishermathis@zappix.com      |+1 (863) 435-3679|Old      |\n",
      "|Sharlene Benton |36 |female|true    |$1,272.43|WAAB     |blue    |sharlenebenton@waab.com      |+1 (825) 578-3842|Adult    |\n",
      "|Moran Hester    |29 |male  |true    |$2,800.62|SYNKGEN  |green   |moranhester@synkgen.com      |+1 (860) 421-2865|Adult    |\n",
      "|Simpson Vega    |57 |male  |true    |$1,835.50|DATAGEN  |brown   |simpsonvega@datagen.com      |+1 (913) 577-3921|Old      |\n",
      "|Concetta Spencer|43 |female|true    |$2,678.44|MUSANPOLY|brown   |concettaspencer@musanpoly.com|+1 (910) 584-2945|Old      |\n",
      "+----------------+---+------+--------+---------+---------+--------+-----------------------------+-----------------+---------+\n",
      "only showing top 10 rows\n",
      "\n"
     ]
    }
   ],
   "source": [
    "#Adding new column Age_Group\n",
    "df = df.withColumn(\"Age_Group\", when((df.age >= 13) & (df.age < 20), lit(\"Teenager\")) \\\n",
    "      .when((df.age >= 20) & (df.age < 40), lit(\"Adult\")) \\\n",
    "      .when(df.age >= 40, lit(\"Old\")) \\\n",
    "      .otherwise(lit(\"NA\")))\n",
    "print(\"Output with new column Age_Group\")\n",
    "df.show(10, False)"
   ]
  },
  {
   "cell_type": "code",
   "execution_count": 7,
   "metadata": {},
   "outputs": [
    {
     "name": "stdout",
     "output_type": "stream",
     "text": [
      "+-------------+---+------+--------+---------+-------+--------+--------------------+-----------------+\n",
      "|         name|age|gender|isActive|  balance|company|eyeColor|               email|            phone|\n",
      "+-------------+---+------+--------+---------+-------+--------+--------------------+-----------------+\n",
      "|   Naomi Kemp| 17|female|    true|$3,601.90|EXOBLUE|   green|naomikemp@exoblue...|+1 (965) 465-2006|\n",
      "|Griffin Carey| 47|  male|    true|$3,330.34| OBONES|   green|griffincarey@obon...|+1 (869) 531-3076|\n",
      "+-------------+---+------+--------+---------+-------+--------+--------------------+-----------------+\n",
      "\n"
     ]
    }
   ],
   "source": [
    "df.createOrReplaceTempView(\"EMP\")\n",
    "spark.sql(\"select name, age, gender, isActive, balance, company, eyeColor, email, phone from \"+\n",
    "     \" (select *, row_number() OVER (PARTITION BY gender ORDER BY balance DESC) as rn \" +\n",
    "     \" FROM EMP) tmp where rn = 1\").show()\n"
   ]
  },
  {
   "cell_type": "code",
   "execution_count": 8,
   "metadata": {},
   "outputs": [
    {
     "name": "stdout",
     "output_type": "stream",
     "text": [
      "+-------------+---+------+--------+---------+-------+--------+--------------------+-----------------+---------+\n",
      "|         name|age|gender|isActive|  balance|company|eyeColor|               email|            phone|Age_Group|\n",
      "+-------------+---+------+--------+---------+-------+--------+--------------------+-----------------+---------+\n",
      "|   Naomi Kemp| 17|female|    true|$3,601.90|EXOBLUE|   green|naomikemp@exoblue...|+1 (965) 465-2006| Teenager|\n",
      "|Griffin Carey| 47|  male|    true|$3,330.34| OBONES|   green|griffincarey@obon...|+1 (869) 531-3076|      Old|\n",
      "+-------------+---+------+--------+---------+-------+--------+--------------------+-----------------+---------+\n",
      "\n"
     ]
    }
   ],
   "source": [
    "#maximun \n",
    "from pyspark.sql.window import Window\n",
    "from pyspark.sql.functions import col, row_number\n",
    "w = Window.partitionBy(\"gender\").orderBy(col(\"balance\").desc())\n",
    "print(\"Top Male & Female on the basis of Balance\")\n",
    "df.withColumn(\"row\",row_number().over(w)) \\\n",
    "  .filter(col(\"row\") == 1).drop(\"row\") \\\n",
    "  .show()\n"
   ]
  },
  {
   "cell_type": "code",
   "execution_count": 9,
   "metadata": {},
   "outputs": [
    {
     "name": "stdout",
     "output_type": "stream",
     "text": [
      "Top Second Male & Female on the basis of Balance\n",
      "+--------------+---+------+--------+---------+-------+--------+--------------------+-----------------+---------+\n",
      "|          name|age|gender|isActive|  balance|company|eyeColor|               email|            phone|Age_Group|\n",
      "+--------------+---+------+--------+---------+-------+--------+--------------------+-----------------+---------+\n",
      "|Addie Mckinney| 29|female|    true|$3,501.79|MARVANE|   brown|addiemckinney@mar...|+1 (964) 419-2240|    Adult|\n",
      "|  Harmon Giles| 34|  male|    true|$3,294.72| VETRON|   green|harmongiles@vetro...|+1 (957) 417-3607|    Adult|\n",
      "+--------------+---+------+--------+---------+-------+--------+--------------------+-----------------+---------+\n",
      "\n"
     ]
    }
   ],
   "source": [
    "#second maximun \n",
    "from pyspark.sql.window import Window\n",
    "from pyspark.sql.functions import col, row_number\n",
    "w = Window.partitionBy(\"gender\").orderBy(col(\"balance\").desc())\n",
    "print(\"Top Second Male & Female on the basis of Balance\")\n",
    "df.withColumn(\"row\",row_number().over(w)) \\\n",
    "  .filter(col(\"row\") == 2).drop(\"row\") \\\n",
    "  .show()\n"
   ]
  },
  {
   "cell_type": "code",
   "execution_count": 10,
   "metadata": {},
   "outputs": [
    {
     "name": "stdout",
     "output_type": "stream",
     "text": [
      "+------------------------+----------------+---+------+--------+---------+---------+--------+-----------------------------+-----------------+\n",
      "|_id                     |name            |age|gender|isActive|balance  |company  |eyeColor|email                        |phone            |\n",
      "+------------------------+----------------+---+------+--------+---------+---------+--------+-----------------------------+-----------------+\n",
      "|6189fc14820ae399fbf0e72e|Lowe Larson     |42 |male  |true    |$2,411.24|RENOVIZE |brown   |lowelarson@renovize.com      |+1 (829) 550-2765|\n",
      "|6189fc149e47c242d283481f|Daugherty Wooten|16 |male  |true    |$2,407.28|ACRODANCE|green   |daughertywooten@acrodance.com|+1 (802) 479-3544|\n",
      "|6189fc1443ea95f1b7cfb74e|Hood Ortega     |53 |male  |true    |$2,147.34|GRACKER  |blue    |hoodortega@gracker.com       |+1 (880) 575-3417|\n",
      "|6189fc14ec90e8b6164151d5|Fuller Morales  |58 |male  |true    |$1,851.82|MANGELICA|brown   |fullermorales@mangelica.com  |+1 (958) 597-3314|\n",
      "|6189fc14cc63ad72d6a2e110|Harmon Giles    |34 |male  |true    |$3,294.72|VETRON   |green   |harmongiles@vetron.com       |+1 (957) 417-3607|\n",
      "|6189fc14df01500f000bf167|Fisher Mathis   |45 |male  |true    |$1,546.40|ZAPPIX   |blue    |fishermathis@zappix.com      |+1 (863) 435-3679|\n",
      "|6189fc1445150b965cd733d0|Sharlene Benton |36 |female|true    |$1,272.43|WAAB     |blue    |sharlenebenton@waab.com      |+1 (825) 578-3842|\n",
      "|6189fc14bbec659ad1e7dce2|Moran Hester    |29 |male  |true    |$2,800.62|SYNKGEN  |green   |moranhester@synkgen.com      |+1 (860) 421-2865|\n",
      "|6189fc141f80e2eafc033e9f|Simpson Vega    |57 |male  |true    |$1,835.50|DATAGEN  |brown   |simpsonvega@datagen.com      |+1 (913) 577-3921|\n",
      "|6189fc141f9e08930a96b272|Concetta Spencer|43 |female|true    |$2,678.44|MUSANPOLY|brown   |concettaspencer@musanpoly.com|+1 (910) 584-2945|\n",
      "+------------------------+----------------+---+------+--------+---------+---------+--------+-----------------------------+-----------------+\n",
      "only showing top 10 rows\n",
      "\n"
     ]
    }
   ],
   "source": [
    "#create temp view table\n",
    "dataframe.createTempView(\"sample_data_view\")\n",
    "spark.sql('''\n",
    "    SELECT _id, name, age, gender, isActive, balance, company, eyeColor, email, phone\n",
    "    FROM sample_data_view\n",
    "    WHERE isActive == \"true\"\n",
    "    ''').show(10, False)"
   ]
  },
  {
   "cell_type": "code",
   "execution_count": 11,
   "metadata": {},
   "outputs": [],
   "source": [
    "#convert to rdd\n",
    "rdd_object = df.rdd\n",
    "rdd_object.saveAsTextFile(f\"./rdd_text_new\")"
   ]
  },
  {
   "cell_type": "code",
   "execution_count": 12,
   "metadata": {},
   "outputs": [],
   "source": [
    "#end spark session\n",
    "spark.stop()"
   ]
  },
  {
   "cell_type": "code",
   "execution_count": null,
   "metadata": {},
   "outputs": [],
   "source": []
  }
 ],
 "metadata": {
  "kernelspec": {
   "display_name": "Python 3",
   "language": "python",
   "name": "python3"
  },
  "language_info": {
   "codemirror_mode": {
    "name": "ipython",
    "version": 3
   },
   "file_extension": ".py",
   "mimetype": "text/x-python",
   "name": "python",
   "nbconvert_exporter": "python",
   "pygments_lexer": "ipython3",
   "version": "3.6.9"
  }
 },
 "nbformat": 4,
 "nbformat_minor": 2
}
